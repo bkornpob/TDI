{
 "cells": [
  {
   "cell_type": "markdown",
   "metadata": {},
   "source": [
    "# Hello Neighbour!\n",
    "Kornpob Bhirombhakdi"
   ]
  },
  {
   "cell_type": "markdown",
   "metadata": {},
   "source": [
    "## Problems & Significance\n",
    "Knowing the distribution of the socioeconomic status, and the current consumer behaviour is always the biggest challenge in any business. These factors affect decision making, policy planning, and determine the odds of success. **\"Hello Neighbour!\" will be the solution.**"
   ]
  },
  {
   "cell_type": "markdown",
   "metadata": {},
   "source": [
    "## Data\n",
    "**Hello Neighbour!** analyzed the distribution of the socioeconomic status and consumer behaviour on US population by using data from a Census Block Group (CBG) survey, whih is the most granular level the US Census Bureau reports data on.\n",
    "\n",
    "The dataset was acquired from Kaggle (https://www.kaggle.com/safegraph/census-block-group-american-community-survey-data/home), which included CBG-level data from the American Community Survey (2016) joined with the visit and consumer behavioural CBG-level data from SafeGraph (https://docs.safegraph.com/docs) conducting during 1st October--November 2018.\n",
    "\n",
    "The size of dataset is about **8GB (unzipped)** containing more than 10 data tables, one GEOJSON file with the polygons for all CBGs, and some metadata files."
   ]
  },
  {
   "cell_type": "markdown",
   "metadata": {},
   "source": [
    "## Preliminaries"
   ]
  },
  {
   "cell_type": "markdown",
   "metadata": {},
   "source": [
    "The dataset is very rich, and is high potential for providing insight to many questions. The following analysis presents some interesting features, in order to demonstrate what implications the data could bring."
   ]
  },
  {
   "cell_type": "code",
   "execution_count": 1,
   "metadata": {},
   "outputs": [],
   "source": [
    "import dask.dataframe as dd\n",
    "import numpy as np\n",
    "import matplotlib.pyplot as plt\n",
    "import pandas as pd\n",
    "import ast"
   ]
  },
  {
   "cell_type": "markdown",
   "metadata": {},
   "source": [
    "### Where should the location of our new business be?"
   ]
  },
  {
   "cell_type": "markdown",
   "metadata": {},
   "source": [
    "We might wonder about where the location of our new business should be to optimize the chance of being seen/visited. To answer this, knowing how the travel behaviour of the population is one of the keys, and the dataset can provide us this insight. Here is how the data looks like."
   ]
  },
  {
   "cell_type": "code",
   "execution_count": 2,
   "metadata": {},
   "outputs": [
    {
     "name": "stdout",
     "output_type": "stream",
     "text": [
      "Index(['census_block_group', 'date_range_start', 'date_range_end',\n",
      "       'raw_visit_count', 'raw_visitor_count', 'visitor_home_cbgs',\n",
      "       'visitor_work_cbgs', 'distance_from_home', 'related_same_day_brand',\n",
      "       'related_same_month_brand', 'top_brands', 'popularity_by_hour',\n",
      "       'popularity_by_day'],\n",
      "      dtype='object')\n",
      "  census_block_group date_range_start date_range_end raw_visit_count  \\\n",
      "0       010059508001       1538352000     1541030400           75122   \n",
      "1       010090506011       1538352000     1541030400           95649   \n",
      "\n",
      "  raw_visitor_count                                  visitor_home_cbgs  \\\n",
      "0             18314  {\"010059501003\":127,\"010059509001\":111,\"010059...   \n",
      "1             38942  {\"010730113021\":210,\"010090506022\":205,\"010090...   \n",
      "\n",
      "                                   visitor_work_cbgs distance_from_home  \\\n",
      "0  {\"010059501003\":109,\"010810407002\":62,\"0108104...             194724   \n",
      "1  {\"010890111001\":271,\"010730045001\":269,\"010439...             120587   \n",
      "\n",
      "                              related_same_day_brand  \\\n",
      "0  [\"Chick-fil-A\",\"mcdonalds\",\"Marathon Petroleum...   \n",
      "1  [\"Shell Oil\",\"mcdonalds\",\"Chick-fil-A\",\"Chevron\"]   \n",
      "\n",
      "                            related_same_month_brand  \\\n",
      "0  [\"walmart\",\"mcdonalds\",\"Dollar General\",\"Chick...   \n",
      "1  [\"walmart\",\"mcdonalds\",\"Shell Oil\",\"Chick-fil-...   \n",
      "\n",
      "                                     top_brands  \\\n",
      "0  [\"CrossFit\",\"Health Mart\",\"Coldwell Banker\"]   \n",
      "1                                            []   \n",
      "\n",
      "                                  popularity_by_hour  \\\n",
      "0  [2617,2457,2403,2519,2646,3007,3886,7566,5508,...   \n",
      "1  [6556,6325,6222,6355,6586,7350,8568,8099,7378,...   \n",
      "\n",
      "                                   popularity_by_day  \n",
      "0  {\"Monday\":12000,\"Tuesday\":12224,\"Wednesday\":10...  \n",
      "1  {\"Monday\":12125,\"Tuesday\":12984,\"Wednesday\":12...  \n"
     ]
    }
   ],
   "source": [
    "dat = dd.read_csv(r\"C:\\TDI\\_data\\safegraph_open_census_data\\data\\cbg_patterns.csv\", dtype='str')\n",
    "dat = dat[~dat['census_block_group'].isna()]\n",
    "print(dat.columns)\n",
    "print(dat.head(2))"
   ]
  },
  {
   "cell_type": "markdown",
   "metadata": {},
   "source": [
    "Notice the **'distance_from_home'** column. It measured the median distance from home traveled to the CBG by visitors in meters. (Note: 1 meter ~ 6.21371e-4 mile)"
   ]
  },
  {
   "cell_type": "code",
   "execution_count": 3,
   "metadata": {},
   "outputs": [
    {
     "data": {
      "image/png": "[encoded data removed]",
      "text/plain": [
       "<Figure size 432x288 with 1 Axes>"
      ]
     },
     "metadata": {
      "needs_background": "light"
     },
     "output_type": "display_data"
    }
   ],
   "source": [
    "plt.figure()\n",
    "plt.hist((dat['distance_from_home'].dropna().astype('float') * 6.21371e-4).compute()\n",
    "         , bins=np.arange(31), density=True\n",
    "        )\n",
    "plt.title('Distribution of Median Distance from Home in US', fontsize=14)\n",
    "plt.ylabel('Density', fontsize=14)\n",
    "plt.xlabel('Median Distance from Home (miles)', fontsize=14)\n",
    "plt.xticks(fontsize=14)\n",
    "plt.yticks(fontsize=14)\n",
    "plt.show()"
   ]
  },
  {
   "cell_type": "code",
   "execution_count": 4,
   "metadata": {},
   "outputs": [
    {
     "data": {
      "text/plain": [
       "count    220518.000000\n",
       "mean         21.818078\n",
       "std          61.970527\n",
       "min           0.438688\n",
       "25%           5.404064\n",
       "50%           9.238233\n",
       "75%          19.671208\n",
       "max        3913.298245\n",
       "dtype: float64"
      ]
     },
     "execution_count": 4,
     "metadata": {},
     "output_type": "execute_result"
    }
   ],
   "source": [
    "(dat['distance_from_home'].dropna().astype('float') * 6.21371e-4).describe().compute()"
   ]
  },
  {
   "cell_type": "markdown",
   "metadata": {},
   "source": [
    "The data implied that about 50% of the population travelled less than 9 miles in a day, with the mode at about 5 miles. Therefore, **setting up a new business within 9 miles radius from the residential area should be considered.** We note that this analysis aggregated every CBG as one population. Difference between sub-population such as rural compared to urban area would provide better insight, and can be analyzed from the dataset."
   ]
  },
  {
   "cell_type": "markdown",
   "metadata": {},
   "source": [
    "### When should the operation hours be?"
   ]
  },
  {
   "cell_type": "markdown",
   "metadata": {},
   "source": [
    "In order to optimize the yields, some businesses might be flexible to design their own operation hours. Therefore, knowing how the area is populated during the week is valuable."
   ]
  },
  {
   "cell_type": "code",
   "execution_count": 5,
   "metadata": {},
   "outputs": [
    {
     "name": "stdout",
     "output_type": "stream",
     "text": [
      "Index(['census_block_group', 'date_range_start', 'date_range_end',\n",
      "       'raw_visit_count', 'raw_visitor_count', 'visitor_home_cbgs',\n",
      "       'visitor_work_cbgs', 'distance_from_home', 'related_same_day_brand',\n",
      "       'related_same_month_brand', 'top_brands', 'popularity_by_hour',\n",
      "       'popularity_by_day'],\n",
      "      dtype='object')\n"
     ]
    }
   ],
   "source": [
    "print(dat.columns)"
   ]
  },
  {
   "cell_type": "markdown",
   "metadata": {},
   "source": [
    "We demonstrate how to answer this question by looking at **'popularity_by_day'** which measured the counts of visits on each day at the CBG."
   ]
  },
  {
   "cell_type": "code",
   "execution_count": 6,
   "metadata": {},
   "outputs": [
    {
     "name": "stdout",
     "output_type": "stream",
     "text": [
      "{}\n",
      "Skip: 36081 220675\n",
      "{}\n",
      "Skip: 36003 220633\n"
     ]
    }
   ],
   "source": [
    "x = dat['census_block_group'].compute()\n",
    "x = x.str.extract('(..)(...)(......)(.)')\n",
    "y = dat['popularity_by_day'].compute()\n",
    "x['popularity_by_day'] = y\n",
    "subdat = x.copy()\n",
    "subdat.reset_index(drop=True,inplace=True)\n",
    "\n",
    "# SS=36 for New York\n",
    "# New York County/Manhattan 061, Kings County/Brooklyn 047, Queens County/Queens 081\n",
    "ss = ['36']\n",
    "ccc = ['061','047','081','003']\n",
    "records = {}\n",
    "for i in ss:\n",
    "    for j in ccc:\n",
    "        x = subdat[subdat[0]==i]\n",
    "        x = x[x[1]==j]\n",
    "        z = np.zeros(7)\n",
    "        for k in x.index:\n",
    "            try:\n",
    "                y = x['popularity_by_day'].loc[k]\n",
    "                z = z + np.array(list(ast.literal_eval(y).values()))\n",
    "            except:\n",
    "                print(y)\n",
    "                print('Skip: {0}{1} {2}'.format(i,j,k))\n",
    "        records[i+j] = z"
   ]
  },
  {
   "cell_type": "code",
   "execution_count": 7,
   "metadata": {
    "scrolled": true
   },
   "outputs": [
    {
     "data": {
      "image/png": "[encoded data removed]",
      "text/plain": [
       "<Figure size 432x288 with 1 Axes>"
      ]
     },
     "metadata": {
      "needs_background": "light"
     },
     "output_type": "display_data"
    }
   ],
   "source": [
    "plt.figure()\n",
    "x = ['Mon','Tue','Wed','Thu','Fri','Sat','Sun']\n",
    "lab = {'36061': 'New York County, NY', '36047': 'Kings County, NY', '36081': 'Queens County, NY', '36003': 'Allegany County, NY'}\n",
    "for i in records.keys():\n",
    "    plt.plot(x,records[i]/np.sum(records[i]),label='{} {}'.format(i,lab[i]))\n",
    "plt.yticks(fontsize=14)\n",
    "plt.xticks(fontsize=14)\n",
    "plt.ylabel('Normalized Counts of Visits', fontsize=14)\n",
    "plt.legend(bbox_to_anchor=(1.04,0), loc='lower left', fontsize=14, frameon=False)\n",
    "plt.show()"
   ]
  },
  {
   "cell_type": "markdown",
   "metadata": {},
   "source": [
    "The plot shows the trends of visits of 4 CBGs in NY: New York County, Kings County, Queens County, and Allegany County. The first three counties are considered urban, compared to the last one. As we can see, the visits were more frequent during the early of the week: Monday to Wednesday. Then, it plunged down on Thursday before climbing up again on Friday. **Saturday in Allegany tended to be busier than the urban areas**, while Sunday should be avoided for running a business in these areas."
   ]
  },
  {
   "cell_type": "markdown",
   "metadata": {},
   "source": [
    "### How is the competition in the area?"
   ]
  },
  {
   "cell_type": "markdown",
   "metadata": {},
   "source": [
    "The analysis of competition in the market is important at every stage of a business. One valuable information we can get from the dataset is the counts of visits to various brands in each CBGs."
   ]
  },
  {
   "cell_type": "code",
   "execution_count": 8,
   "metadata": {},
   "outputs": [
    {
     "name": "stdout",
     "output_type": "stream",
     "text": [
      "Index(['census_block_group', 'date_range_start', 'date_range_end',\n",
      "       'raw_visit_count', 'raw_visitor_count', 'visitor_home_cbgs',\n",
      "       'visitor_work_cbgs', 'distance_from_home', 'related_same_day_brand',\n",
      "       'related_same_month_brand', 'top_brands', 'popularity_by_hour',\n",
      "       'popularity_by_day'],\n",
      "      dtype='object')\n"
     ]
    }
   ],
   "source": [
    "print(dat.columns)"
   ]
  },
  {
   "cell_type": "markdown",
   "metadata": {},
   "source": [
    "In this analysis, we demonstrated with the **'top_brands'** visited during the time period."
   ]
  },
  {
   "cell_type": "code",
   "execution_count": 9,
   "metadata": {},
   "outputs": [],
   "source": [
    "x = dat['census_block_group'].compute()\n",
    "x = x.str.extract('(..)(...)(......)(.)')\n",
    "y = dat['top_brands'].compute()\n",
    "x['top_brands'] = y\n",
    "subdat = x.copy()\n",
    "\n",
    "#39 = OH\n",
    "ss = ['36','39']\n",
    "records = {}\n",
    "for i in ss:\n",
    "    x = subdat[subdat[0]==i]\n",
    "    y = []\n",
    "    for j in x['top_brands']:\n",
    "        z = ast.literal_eval(j)\n",
    "        for k in z:\n",
    "            y.append(k)\n",
    "    y = pd.Series(y)\n",
    "    records[i] = y.value_counts()"
   ]
  },
  {
   "cell_type": "code",
   "execution_count": 10,
   "metadata": {},
   "outputs": [],
   "source": [
    "ranks = {}\n",
    "for i in records.keys():\n",
    "    x = records[i]\n",
    "    x = x.to_frame()\n",
    "    x.reset_index(drop=False,inplace=True)\n",
    "    x.sort_values(by=[0],ascending=False,inplace=True)\n",
    "    y = x.iloc[0:5]\n",
    "#     z = {'index': 'Others', 0: np.sum(x[0].iloc[5:])}\n",
    "#     z = pd.DataFrame([z])\n",
    "#     y = pd.concat([y,z])\n",
    "    y.reset_index(drop=True,inplace=True)\n",
    "    y.columns = ['top_brands','counts']\n",
    "    ranks[i] = y"
   ]
  },
  {
   "cell_type": "code",
   "execution_count": 11,
   "metadata": {},
   "outputs": [
    {
     "name": "stdout",
     "output_type": "stream",
     "text": [
      "NY\n",
      "                            top_brands  counts\n",
      "0  United States Postal Service (USPS)    1347\n",
      "1                       Dunkin' Donuts    1229\n",
      "2                               SUBWAY     791\n",
      "3                               Sunoco     695\n",
      "4                     Cricket Wireless     598\n",
      "#######################\n",
      "OH\n",
      "                            top_brands  counts\n",
      "0  United States Postal Service (USPS)     897\n",
      "1                               SUBWAY     778\n",
      "2                       Dollar General     706\n",
      "3                   Marathon Petroleum     659\n",
      "4                            mcdonalds     592\n",
      "#######################\n"
     ]
    }
   ],
   "source": [
    "a = {'36': 'NY', '39': 'OH'}\n",
    "for i in ranks.keys():\n",
    "    print(a[i])\n",
    "    print(ranks[i])\n",
    "    print('#######################')"
   ]
  },
  {
   "cell_type": "markdown",
   "metadata": {},
   "source": [
    "The analysis demonstrated the five most visited brands in NY and OH. Let's say, we would like to run **a donut shop**. Opening a new donut shop in NY would be more challenging than in OH."
   ]
  },
  {
   "cell_type": "markdown",
   "metadata": {},
   "source": [
    "### What is the income distribution?"
   ]
  },
  {
   "cell_type": "markdown",
   "metadata": {},
   "source": [
    "Socioeconomic factors affect the choices of consumption. A successful business is the one which provides products matched with the demands given these underlying factors. Price, or the invisible hand, plays the most important role determining this, and every business must be precautious about.\n",
    "\n",
    "There are several methods to estimate the price of a product. With the data we have, we can get insight in several aspects. One thing we want to know is how the income level is distributed."
   ]
  },
  {
   "cell_type": "code",
   "execution_count": 12,
   "metadata": {},
   "outputs": [
    {
     "name": "stdout",
     "output_type": "stream",
     "text": [
      "Index(['census_block_group', 'B19001e1', 'B19001m1', 'B19001e2', 'B19001m2',\n",
      "       'B19001e3', 'B19001m3', 'B19001e4', 'B19001m4', 'B19001e5',\n",
      "       ...\n",
      "       'B19313Ee1', 'B19313Em1', 'B19313Fe1', 'B19313Fm1', 'B19313Ge1',\n",
      "       'B19313Gm1', 'B19313He1', 'B19313Hm1', 'B19313Ie1', 'B19313Im1'],\n",
      "      dtype='object', length=401)\n",
      "  census_block_group B19001e1 B19001m1 B19001e2 B19001m2 B19001e3 B19001m3  \\\n",
      "0       010010201001      284       53       24       29       33       25   \n",
      "1       010010201002      456       64        8       10       15       24   \n",
      "\n",
      "  B19001e4 B19001m4 B19001e5    ...    B19313Ee1 B19313Em1 B19313Fe1  \\\n",
      "0       23       22       25    ...          NaN       NaN       NaN   \n",
      "1       14       22        5    ...          NaN       NaN       NaN   \n",
      "\n",
      "  B19313Fm1 B19313Ge1 B19313Gm1 B19313He1 B19313Hm1 B19313Ie1 B19313Im1  \n",
      "0       NaN       NaN       NaN  13071500   4351307       NaN       NaN  \n",
      "1       NaN    932100    777912  35555700  10801102       NaN       NaN  \n",
      "\n",
      "[2 rows x 401 columns]\n",
      "#################\n",
      "Index(['table_id', 'field_full_name', 'field_level_1', 'field_level_2',\n",
      "       'field_level_3', 'field_level_4', 'field_level_5', 'field_level_6',\n",
      "       'field_level_7', 'field_level_8'],\n",
      "      dtype='object')\n",
      "   table_id                                    field_full_name  \\\n",
      "0  B00001e1  UNWEIGHTED SAMPLE COUNT OF THE POPULATION: Tot...   \n",
      "1  B00001m1  UNWEIGHTED SAMPLE COUNT OF THE POPULATION: Tot...   \n",
      "\n",
      "                               field_level_1 field_level_2  \\\n",
      "0  Unweighted Sample Count Of The Population         Total   \n",
      "1  Unweighted Sample Count Of The Population         Total   \n",
      "\n",
      "                            field_level_3 field_level_4 field_level_5  \\\n",
      "0          Total Population -- (Estimate)           NaN           NaN   \n",
      "1   Total Population -- (Margin Of Error)           NaN           NaN   \n",
      "\n",
      "  field_level_6 field_level_7 field_level_8  \n",
      "0           NaN           NaN           NaN  \n",
      "1           NaN           NaN           NaN  \n"
     ]
    }
   ],
   "source": [
    "dat2 = dd.read_csv(r\"C:\\TDI\\_data\\safegraph_open_census_data\\data\\cbg_b19.csv\", dtype='str').compute()\n",
    "colname = dd.read_csv(r\"C:\\TDI\\_data\\safegraph_open_census_data\\metadata\\cbg_field_descriptions.csv\", dtype='str').compute()\n",
    "print(dat2.columns)\n",
    "print(dat2.head(2))\n",
    "print('#################')\n",
    "print(colname.columns)\n",
    "print(colname.head(2))"
   ]
  },
  {
   "cell_type": "markdown",
   "metadata": {},
   "source": [
    "The above cell shows how the data look like. Note that we chose Table B19 because it related to the income, and the column description was provided in a separated file.\n",
    "\n",
    "The data provided different measurements related to the income of participants in each CBG. Here, for demonstration we consider **the median household income in the past 12 months (in 2016 inflation-adjusted dollars).**"
   ]
  },
  {
   "cell_type": "code",
   "execution_count": 13,
   "metadata": {},
   "outputs": [
    {
     "name": "stdout",
     "output_type": "stream",
     "text": [
      "['B19013e1' 'B19013m1']\n",
      "[ 'MEDIAN HOUSEHOLD INCOME IN THE PAST 12 MONTHS (IN 2016 INFLATION-ADJUSTED DOLLARS): Total: Households -- (Estimate)'\n",
      " 'MEDIAN HOUSEHOLD INCOME IN THE PAST 12 MONTHS (IN 2016 INFLATION-ADJUSTED DOLLARS): Total: Households -- (Margin of Error)']\n"
     ]
    }
   ],
   "source": [
    "x = colname['field_full_name'].str.match(pat='MEDIAN HOUSEHOLD INCOME.+')\n",
    "y = colname[x][['table_id','field_full_name']]\n",
    "y.reset_index(drop=True,inplace=True)\n",
    "y = y.iloc[0:2]\n",
    "print(y['table_id'].unique())\n",
    "print(y['field_full_name'].unique())"
   ]
  },
  {
   "cell_type": "code",
   "execution_count": 14,
   "metadata": {},
   "outputs": [
    {
     "data": {
      "text/html": [
       "<div>\n",
       "<style scoped>\n",
       "    .dataframe tbody tr th:only-of-type {\n",
       "        vertical-align: middle;\n",
       "    }\n",
       "\n",
       "    .dataframe tbody tr th {\n",
       "        vertical-align: top;\n",
       "    }\n",
       "\n",
       "    .dataframe thead th {\n",
       "        text-align: right;\n",
       "    }\n",
       "</style>\n",
       "<table border=\"1\" class=\"dataframe\">\n",
       "  <thead>\n",
       "    <tr style=\"text-align: right;\">\n",
       "      <th></th>\n",
       "      <th>census_block_group</th>\n",
       "      <th>B19013e1</th>\n",
       "      <th>B19013m1</th>\n",
       "    </tr>\n",
       "  </thead>\n",
       "  <tbody>\n",
       "    <tr>\n",
       "      <th>0</th>\n",
       "      <td>010010201001</td>\n",
       "      <td>NaN</td>\n",
       "      <td>NaN</td>\n",
       "    </tr>\n",
       "    <tr>\n",
       "      <th>1</th>\n",
       "      <td>010010201002</td>\n",
       "      <td>77813</td>\n",
       "      <td>11618</td>\n",
       "    </tr>\n",
       "  </tbody>\n",
       "</table>\n",
       "</div>"
      ],
      "text/plain": [
       "  census_block_group B19013e1 B19013m1\n",
       "0       010010201001      NaN      NaN\n",
       "1       010010201002    77813    11618"
      ]
     },
     "execution_count": 14,
     "metadata": {},
     "output_type": "execute_result"
    }
   ],
   "source": [
    "x = []\n",
    "x = ['census_block_group']\n",
    "for i in y['table_id'].unique():\n",
    "    x.append(i)\n",
    "z = dat2[x]\n",
    "subdat = z.copy()\n",
    "subdat.head(2)"
   ]
  },
  {
   "cell_type": "code",
   "execution_count": 15,
   "metadata": {},
   "outputs": [],
   "source": [
    "fips = {'36061': 'New York County, NY'\n",
    "        , '36047': 'Kings County, NY'\n",
    "        , '36081': 'Queens County, NY'\n",
    "        , '36005': 'Bronx County, NY'\n",
    "        , '36085': 'Richmond County, NY'}"
   ]
  },
  {
   "cell_type": "code",
   "execution_count": 16,
   "metadata": {},
   "outputs": [],
   "source": [
    "x = subdat['census_block_group']\n",
    "x = x.str.extract('(.....)(......)(.)')\n",
    "subdat['fips'] = x[0]"
   ]
  },
  {
   "cell_type": "code",
   "execution_count": 17,
   "metadata": {},
   "outputs": [],
   "source": [
    "y = list(fips.keys())\n",
    "z = subdat[subdat['fips'].isin(y)]['B19013e1']"
   ]
  },
  {
   "cell_type": "code",
   "execution_count": 18,
   "metadata": {},
   "outputs": [
    {
     "data": {
      "image/png": "[encoded data removed]",
      "text/plain": [
       "<Figure size 432x288 with 1 Axes>"
      ]
     },
     "metadata": {
      "needs_background": "light"
     },
     "output_type": "display_data"
    }
   ],
   "source": [
    "plt.figure()\n",
    "plt.hist(z.dropna().astype('float')\n",
    "         , bins='auto'\n",
    "#          , density=True\n",
    "        )\n",
    "plt.title('Distribution of Median Household Income in the Past 12 Months in Boroughs of New York City', fontsize=14)\n",
    "plt.ylabel('Counts', fontsize=14)\n",
    "plt.xlabel('Median Household Income (dollars)', fontsize=14)\n",
    "plt.xticks(fontsize=14)\n",
    "plt.yticks(fontsize=14)\n",
    "plt.show()"
   ]
  },
  {
   "cell_type": "code",
   "execution_count": 19,
   "metadata": {},
   "outputs": [
    {
     "data": {
      "text/plain": [
       "count      5856.000000\n",
       "mean      64313.020663\n",
       "std       36581.613565\n",
       "min        4263.000000\n",
       "25%       39375.000000\n",
       "50%       57455.500000\n",
       "75%       80682.750000\n",
       "max      250001.000000\n",
       "Name: B19013e1, dtype: float64"
      ]
     },
     "execution_count": 19,
     "metadata": {},
     "output_type": "execute_result"
    }
   ],
   "source": [
    "z.astype('float').describe()"
   ]
  },
  {
   "cell_type": "markdown",
   "metadata": {},
   "source": [
    "The data showed that the median of the income distribution was about $57k with the mode at about $50k. Therefore, if the business aims to target a large group of consumers in the Boroughs of New York City, **the target population with about $50-60k annual income would be appropriate.**"
   ]
  },
  {
   "cell_type": "markdown",
   "metadata": {},
   "source": [
    "## Conclusion and Plan"
   ]
  },
  {
   "cell_type": "markdown",
   "metadata": {},
   "source": [
    "The analysis here demonstrated how powerful the CBG survey can bring leverages to a business. Because the data were collected at the most granular level, the analysis for market segmentation can be done from the micro to macro levels. A lot of insight for decision making, policy implications, and strategic planning can be drawn.\n",
    "\n",
    "For the future development, I plan to develop a friendly GUI deployed on a website, or as an application. The final product would provide freedom and flexibility for users to filter and visualize the results. For another part of this development, I plan to develop a model that can solve a problem like setting price of a product given underlying CBG characteristics."
   ]
  },
  {
   "cell_type": "markdown",
   "metadata": {},
   "source": [
    "## Youtube"
   ]
  },
  {
   "cell_type": "code",
   "execution_count": null,
   "metadata": {},
   "outputs": [],
   "source": []
  }
 ],
 "metadata": {
  "kernelspec": {
   "display_name": "Python 3",
   "language": "python",
   "name": "python3"
  },
  "language_info": {
   "codemirror_mode": {
    "name": "ipython",
    "version": 3
   },
   "file_extension": ".py",
   "mimetype": "text/x-python",
   "name": "python",
   "nbconvert_exporter": "python",
   "pygments_lexer": "ipython3",
   "version": "3.6.8"
  }
 },
 "nbformat": 4,
 "nbformat_minor": 2
}
